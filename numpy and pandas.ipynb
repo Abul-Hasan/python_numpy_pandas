{
 "cells": [
  {
   "cell_type": "code",
   "execution_count": 3,
   "metadata": {},
   "outputs": [],
   "source": [
    "import numpy as np"
   ]
  },
  {
   "cell_type": "code",
   "execution_count": 4,
   "metadata": {},
   "outputs": [],
   "source": [
    "import pandas as pd"
   ]
  },
  {
   "cell_type": "code",
   "execution_count": 4,
   "metadata": {},
   "outputs": [
    {
     "data": {
      "text/plain": [
       "numpy.ndarray"
      ]
     },
     "execution_count": 4,
     "metadata": {},
     "output_type": "execute_result"
    }
   ],
   "source": [
    " arr =np.array([1,2,3,4,5])\n",
    "type(arr)"
   ]
  },
  {
   "cell_type": "code",
   "execution_count": 5,
   "metadata": {},
   "outputs": [
    {
     "data": {
      "text/plain": [
       "(5,)"
      ]
     },
     "execution_count": 5,
     "metadata": {},
     "output_type": "execute_result"
    }
   ],
   "source": [
    "arr.shape"
   ]
  },
  {
   "cell_type": "code",
   "execution_count": 6,
   "metadata": {},
   "outputs": [
    {
     "data": {
      "text/plain": [
       "1"
      ]
     },
     "execution_count": 6,
     "metadata": {},
     "output_type": "execute_result"
    }
   ],
   "source": [
    "arr.ndim"
   ]
  },
  {
   "cell_type": "code",
   "execution_count": 7,
   "metadata": {},
   "outputs": [
    {
     "data": {
      "text/plain": [
       "array([[0., 0., 0., 0., 0.],\n",
       "       [0., 0., 0., 0., 0.],\n",
       "       [0., 0., 0., 0., 0.],\n",
       "       [0., 0., 0., 0., 0.],\n",
       "       [0., 0., 0., 0., 0.]])"
      ]
     },
     "execution_count": 7,
     "metadata": {},
     "output_type": "execute_result"
    }
   ],
   "source": [
    "np.zeros([5,5])"
   ]
  },
  {
   "cell_type": "code",
   "execution_count": 9,
   "metadata": {},
   "outputs": [],
   "source": [
    "data=np.random.randint(1,10,(4,4))"
   ]
  },
  {
   "cell_type": "code",
   "execution_count": 10,
   "metadata": {},
   "outputs": [
    {
     "data": {
      "text/plain": [
       "9"
      ]
     },
     "execution_count": 10,
     "metadata": {},
     "output_type": "execute_result"
    }
   ],
   "source": [
    "np.max(data)"
   ]
  },
  {
   "cell_type": "code",
   "execution_count": 11,
   "metadata": {},
   "outputs": [
    {
     "data": {
      "text/plain": [
       "array([9, 7, 6, 8])"
      ]
     },
     "execution_count": 11,
     "metadata": {},
     "output_type": "execute_result"
    }
   ],
   "source": [
    "np.max(data,axis=1)"
   ]
  },
  {
   "cell_type": "code",
   "execution_count": 12,
   "metadata": {},
   "outputs": [
    {
     "data": {
      "text/plain": [
       "array([[1.60943791, 2.19722458, 1.94591015, 2.19722458],\n",
       "       [1.09861229, 0.        , 1.09861229, 1.94591015],\n",
       "       [1.09861229, 1.38629436, 1.79175947, 0.69314718],\n",
       "       [1.94591015, 2.07944154, 1.79175947, 1.38629436]])"
      ]
     },
     "execution_count": 12,
     "metadata": {},
     "output_type": "execute_result"
    }
   ],
   "source": [
    "np.log(data)"
   ]
  },
  {
   "cell_type": "code",
   "execution_count": 13,
   "metadata": {},
   "outputs": [
    {
     "data": {
      "text/plain": [
       "array([[5, 7, 9, 9],\n",
       "       [1, 3, 3, 7],\n",
       "       [2, 3, 4, 6],\n",
       "       [4, 6, 7, 8]])"
      ]
     },
     "execution_count": 13,
     "metadata": {},
     "output_type": "execute_result"
    }
   ],
   "source": [
    "np.sort(data,axis=1)"
   ]
  },
  {
   "cell_type": "code",
   "execution_count": 14,
   "metadata": {},
   "outputs": [
    {
     "data": {
      "text/plain": [
       "array([[5, 7, 9, 9],\n",
       "       [1, 3, 3, 7],\n",
       "       [2, 3, 4, 6],\n",
       "       [4, 6, 7, 8]])"
      ]
     },
     "execution_count": 14,
     "metadata": {},
     "output_type": "execute_result"
    }
   ],
   "source": [
    "np.sort(data)"
   ]
  },
  {
   "cell_type": "code",
   "execution_count": 15,
   "metadata": {},
   "outputs": [
    {
     "data": {
      "text/plain": [
       "array([[0.69897   , 0.95424251, 0.84509804, 0.95424251],\n",
       "       [0.47712125, 0.        , 0.47712125, 0.84509804],\n",
       "       [0.47712125, 0.60205999, 0.77815125, 0.30103   ],\n",
       "       [0.84509804, 0.90308999, 0.77815125, 0.60205999]])"
      ]
     },
     "execution_count": 15,
     "metadata": {},
     "output_type": "execute_result"
    }
   ],
   "source": [
    "np.log10(data)"
   ]
  },
  {
   "cell_type": "code",
   "execution_count": 17,
   "metadata": {},
   "outputs": [
    {
     "data": {
      "text/plain": [
       "array([[136, 154, 158, 158],\n",
       "       [ 76,  96,  84,  68],\n",
       "       [ 59,  71,  81,  75],\n",
       "       [105, 127, 133, 147]])"
      ]
     },
     "execution_count": 17,
     "metadata": {},
     "output_type": "execute_result"
    }
   ],
   "source": [
    "np.matmul(data,data)"
   ]
  },
  {
   "cell_type": "code",
   "execution_count": 18,
   "metadata": {},
   "outputs": [
    {
     "data": {
      "text/plain": [
       "array([[-0.21910112,  0.15168539, -0.09550562,  0.2752809 ],\n",
       "       [ 0.17696629, -0.1994382 , -0.11516854,  0.00842697],\n",
       "       [-0.03651685,  0.0252809 ,  0.31741573, -0.12078652],\n",
       "       [ 0.08426966,  0.09550562, -0.07865169, -0.06741573]])"
      ]
     },
     "execution_count": 18,
     "metadata": {},
     "output_type": "execute_result"
    }
   ],
   "source": [
    "np.linalg.inv(data)"
   ]
  },
  {
   "cell_type": "code",
   "execution_count": 19,
   "metadata": {},
   "outputs": [
    {
     "data": {
      "text/plain": [
       "array([[10, 18, 14, 18],\n",
       "       [ 6,  2,  6, 14],\n",
       "       [ 6,  8, 12,  4],\n",
       "       [14, 16, 12,  8]])"
      ]
     },
     "execution_count": 19,
     "metadata": {},
     "output_type": "execute_result"
    }
   ],
   "source": [
    "data+data"
   ]
  },
  {
   "cell_type": "code",
   "execution_count": 41,
   "metadata": {},
   "outputs": [
    {
     "name": "stdout",
     "output_type": "stream",
     "text": [
      "[ 0.  0.  0.  0.  0.  1.  0.  0.  0. 10.]\n"
     ]
    }
   ],
   "source": [
    "x = np.zeros(10)\n",
    "x[5] = 1\n",
    "x[-1]=10\n",
    "print(x)"
   ]
  },
  {
   "cell_type": "code",
   "execution_count": 42,
   "metadata": {},
   "outputs": [
    {
     "name": "stdout",
     "output_type": "stream",
     "text": [
      "[10.  0.  0.  0.  1.  0.  0.  0.  0.  0.]\n"
     ]
    }
   ],
   "source": [
    "rev=x[::-1]\n",
    "print(rev)\n"
   ]
  },
  {
   "cell_type": "code",
   "execution_count": 54,
   "metadata": {},
   "outputs": [
    {
     "data": {
      "text/plain": [
       "array([[[6, 8, 5],\n",
       "        [5, 4, 7],\n",
       "        [4, 6, 5]],\n",
       "\n",
       "       [[8, 5, 0],\n",
       "        [2, 7, 3],\n",
       "        [1, 6, 0]],\n",
       "\n",
       "       [[2, 5, 6],\n",
       "        [5, 0, 0],\n",
       "        [1, 8, 8]]])"
      ]
     },
     "execution_count": 54,
     "metadata": {},
     "output_type": "execute_result"
    }
   ],
   "source": [
    "#Create a 3x3 matrix with values ranging from 0 to 8\n",
    "data=np.random.randint(0,9,(3,3,3))\n",
    "data"
   ]
  },
  {
   "cell_type": "code",
   "execution_count": 55,
   "metadata": {},
   "outputs": [
    {
     "data": {
      "text/plain": [
       "array([[16, 18, 11],\n",
       "       [12, 11, 10],\n",
       "       [ 6, 20, 13]])"
      ]
     },
     "execution_count": 55,
     "metadata": {},
     "output_type": "execute_result"
    }
   ],
   "source": [
    "np.sum(data,axis=0)"
   ]
  },
  {
   "cell_type": "code",
   "execution_count": 53,
   "metadata": {},
   "outputs": [
    {
     "data": {
      "text/plain": [
       "array([[1, 1, 3, 5, 7, 7, 0, 7, 4, 7, 2, 3, 9, 9, 5, 7],\n",
       "       [4, 4, 9, 6, 7, 4, 6, 0, 1, 7, 5, 7, 8, 1, 1, 9],\n",
       "       [1, 0, 1, 2, 3, 6, 8, 2, 3, 3, 6, 5, 8, 9, 2, 0],\n",
       "       [9, 5, 9, 9, 5, 6, 6, 6, 6, 4, 0, 1, 0, 9, 3, 7],\n",
       "       [0, 2, 1, 4, 5, 3, 3, 2, 2, 9, 9, 2, 8, 2, 8, 4],\n",
       "       [5, 7, 2, 0, 4, 6, 8, 2, 9, 6, 3, 6, 3, 1, 1, 5],\n",
       "       [9, 7, 9, 0, 6, 5, 2, 8, 0, 4, 1, 2, 5, 2, 3, 4],\n",
       "       [1, 5, 7, 9, 8, 8, 8, 7, 3, 1, 8, 1, 0, 4, 5, 7],\n",
       "       [8, 4, 2, 4, 9, 1, 7, 6, 1, 8, 9, 3, 5, 3, 8, 1],\n",
       "       [2, 9, 2, 6, 6, 5, 8, 8, 6, 5, 1, 5, 4, 7, 4, 5],\n",
       "       [5, 7, 5, 7, 4, 5, 8, 7, 4, 6, 2, 5, 8, 2, 7, 4],\n",
       "       [9, 2, 9, 8, 7, 4, 8, 7, 5, 2, 3, 7, 2, 4, 2, 1],\n",
       "       [5, 2, 2, 9, 4, 4, 6, 0, 8, 2, 8, 5, 9, 5, 8, 6],\n",
       "       [1, 7, 6, 3, 0, 0, 8, 0, 9, 3, 6, 9, 4, 4, 3, 2],\n",
       "       [4, 0, 7, 6, 1, 8, 1, 4, 5, 0, 8, 9, 9, 8, 8, 0],\n",
       "       [3, 4, 7, 9, 6, 5, 1, 2, 1, 5, 6, 8, 8, 8, 4, 1]])"
      ]
     },
     "execution_count": 53,
     "metadata": {},
     "output_type": "execute_result"
    }
   ],
   "source": [
    "np.random.randint(0,10,(16,16))\n"
   ]
  },
  {
   "cell_type": "code",
   "execution_count": 82,
   "metadata": {},
   "outputs": [],
   "source": [
    "data=np.random.randint(0,10,(16,16))"
   ]
  },
  {
   "cell_type": "code",
   "execution_count": 83,
   "metadata": {},
   "outputs": [],
   "source": [
    "res[0,0]=np.sum(data[:4,:4])\n"
   ]
  },
  {
   "cell_type": "code",
   "execution_count": 84,
   "metadata": {},
   "outputs": [
    {
     "data": {
      "text/plain": [
       "array([[62., 68., 86., 60.],\n",
       "       [ 0.,  0.,  0.,  0.],\n",
       "       [ 0.,  0.,  0.,  0.],\n",
       "       [ 0.,  0.,  0.,  0.]])"
      ]
     },
     "execution_count": 84,
     "metadata": {},
     "output_type": "execute_result"
    }
   ],
   "source": [
    "res[0,1]=np.sum(data[:4,4:8])\n",
    "res[0,2]=np.sum(data[:4,8:12])\n",
    "res[0,3]=np.sum(data[:4,12:16])\n",
    "res"
   ]
  },
  {
   "cell_type": "code",
   "execution_count": 85,
   "metadata": {},
   "outputs": [
    {
     "name": "stdout",
     "output_type": "stream",
     "text": [
      "[[62. 68. 86. 60.]\n",
      " [ 0.  0.  0.  0.]\n",
      " [ 0.  0.  0.  0.]\n",
      " [ 0.  0.  0.  0.]]\n",
      "[[62. 68. 86. 60.]\n",
      " [ 0.  0.  0.  0.]\n",
      " [ 0.  0.  0.  0.]\n",
      " [ 0.  0.  0.  0.]]\n",
      "[[62. 68. 86. 60.]\n",
      " [ 0.  0.  0.  0.]\n",
      " [ 0.  0.  0.  0.]\n",
      " [ 0.  0.  0.  0.]]\n",
      "[[62. 68. 86. 60.]\n",
      " [ 0.  0.  0.  0.]\n",
      " [ 0.  0.  0.  0.]\n",
      " [ 0.  0.  0.  0.]]\n",
      "[[62. 68. 86. 60.]\n",
      " [89.  0.  0.  0.]\n",
      " [ 0.  0.  0.  0.]\n",
      " [ 0.  0.  0.  0.]]\n",
      "[[62. 68. 86. 60.]\n",
      " [89. 76.  0.  0.]\n",
      " [ 0.  0.  0.  0.]\n",
      " [ 0.  0.  0.  0.]]\n",
      "[[62. 68. 86. 60.]\n",
      " [89. 76. 74.  0.]\n",
      " [ 0.  0.  0.  0.]\n",
      " [ 0.  0.  0.  0.]]\n",
      "[[62. 68. 86. 60.]\n",
      " [89. 76. 74. 65.]\n",
      " [ 0.  0.  0.  0.]\n",
      " [ 0.  0.  0.  0.]]\n",
      "[[62. 68. 86. 60.]\n",
      " [89. 76. 74. 65.]\n",
      " [68.  0.  0.  0.]\n",
      " [ 0.  0.  0.  0.]]\n",
      "[[62. 68. 86. 60.]\n",
      " [89. 76. 74. 65.]\n",
      " [68. 68.  0.  0.]\n",
      " [ 0.  0.  0.  0.]]\n",
      "[[62. 68. 86. 60.]\n",
      " [89. 76. 74. 65.]\n",
      " [68. 68. 92.  0.]\n",
      " [ 0.  0.  0.  0.]]\n",
      "[[62. 68. 86. 60.]\n",
      " [89. 76. 74. 65.]\n",
      " [68. 68. 92. 73.]\n",
      " [ 0.  0.  0.  0.]]\n",
      "[[62. 68. 86. 60.]\n",
      " [89. 76. 74. 65.]\n",
      " [68. 68. 92. 73.]\n",
      " [81.  0.  0.  0.]]\n",
      "[[62. 68. 86. 60.]\n",
      " [89. 76. 74. 65.]\n",
      " [68. 68. 92. 73.]\n",
      " [81. 78.  0.  0.]]\n",
      "[[62. 68. 86. 60.]\n",
      " [89. 76. 74. 65.]\n",
      " [68. 68. 92. 73.]\n",
      " [81. 78. 63.  0.]]\n",
      "[[62. 68. 86. 60.]\n",
      " [89. 76. 74. 65.]\n",
      " [68. 68. 92. 73.]\n",
      " [81. 78. 63. 76.]]\n"
     ]
    }
   ],
   "source": [
    "for i in range(4):\n",
    "    for j in range(4):\n",
    "        res[i,j]=np.sum(data[i*4:i*4+4,j*4:j*4+4])\n",
    "        print(res)\n",
    "    "
   ]
  },
  {
   "cell_type": "code",
   "execution_count": 86,
   "metadata": {},
   "outputs": [
    {
     "data": {
      "text/plain": [
       "[array([[9, 1, 6, 0, 2, 6, 3, 8, 2, 8, 7, 3, 2, 9, 7, 2],\n",
       "        [8, 4, 0, 9, 7, 6, 3, 9, 5, 1, 8, 8, 4, 2, 0, 8],\n",
       "        [0, 5, 0, 3, 1, 0, 7, 6, 3, 9, 7, 8, 0, 5, 2, 3],\n",
       "        [5, 4, 3, 5, 7, 0, 2, 1, 2, 7, 3, 5, 6, 5, 0, 5]]),\n",
       " array([[2, 8, 0, 6, 2, 2, 6, 7, 4, 7, 4, 7, 7, 4, 3, 9],\n",
       "        [7, 9, 2, 5, 0, 5, 5, 4, 5, 5, 0, 6, 9, 0, 2, 6],\n",
       "        [3, 4, 8, 3, 9, 5, 0, 4, 4, 5, 4, 3, 4, 2, 4, 1],\n",
       "        [9, 7, 8, 8, 7, 6, 5, 9, 5, 6, 3, 6, 0, 1, 6, 7]]),\n",
       " array([[2, 7, 6, 7, 0, 3, 3, 3, 4, 6, 7, 7, 7, 2, 9, 0],\n",
       "        [4, 2, 2, 8, 3, 8, 9, 5, 6, 6, 9, 7, 5, 5, 1, 4],\n",
       "        [1, 8, 6, 3, 1, 0, 5, 7, 9, 5, 8, 5, 8, 7, 0, 2],\n",
       "        [0, 0, 7, 5, 0, 8, 5, 8, 8, 0, 5, 0, 7, 7, 3, 6]]),\n",
       " array([[6, 2, 3, 3, 5, 5, 5, 2, 4, 9, 7, 1, 8, 5, 1, 8],\n",
       "        [3, 8, 0, 5, 8, 5, 2, 6, 3, 8, 0, 4, 4, 9, 6, 5],\n",
       "        [9, 2, 7, 9, 3, 1, 2, 7, 4, 0, 0, 0, 1, 2, 5, 7],\n",
       "        [2, 5, 8, 9, 3, 8, 7, 9, 3, 9, 7, 4, 1, 6, 3, 5]])]"
      ]
     },
     "execution_count": 86,
     "metadata": {},
     "output_type": "execute_result"
    }
   ],
   "source": [
    "#np.hsplit(data,[8]) #horizontal split\n",
    "res=np.vsplit(data,[4,8,12])"
   ]
  },
  {
   "cell_type": "code",
   "execution_count": 10,
   "metadata": {},
   "outputs": [
    {
     "ename": "SyntaxError",
     "evalue": "invalid syntax (<ipython-input-10-0ad7e2d83f4a>, line 4)",
     "output_type": "error",
     "traceback": [
      "\u001b[1;36m  File \u001b[1;32m\"<ipython-input-10-0ad7e2d83f4a>\"\u001b[1;36m, line \u001b[1;32m4\u001b[0m\n\u001b[1;33m    print(res)\u001b[0m\n\u001b[1;37m        ^\u001b[0m\n\u001b[1;31mSyntaxError\u001b[0m\u001b[1;31m:\u001b[0m invalid syntax\n"
     ]
    }
   ],
   "source": [
    "res=[]\n",
    "for e in res:\n",
    "    res.extend(np.hsplit(e,[4,8,12])\n",
    "print(res)    "
   ]
  },
  {
   "cell_type": "code",
   "execution_count": null,
   "metadata": {},
   "outputs": [],
   "source": [
    "fin=[]\n",
    "for r in res:\n",
    "    fin.append(np.sum(r))\n",
    "    "
   ]
  },
  {
   "cell_type": "code",
   "execution_count": 11,
   "metadata": {},
   "outputs": [],
   "source": [
    "titanic=pd.read_csv('https://raw.githubusercontent.com/zekelabs/data-science-complete-tutorial/master/Data/titanic-train.csv.txt',index_col='PassengerId')"
   ]
  },
  {
   "cell_type": "code",
   "execution_count": 12,
   "metadata": {},
   "outputs": [
    {
     "data": {
      "text/html": [
       "<div>\n",
       "<style scoped>\n",
       "    .dataframe tbody tr th:only-of-type {\n",
       "        vertical-align: middle;\n",
       "    }\n",
       "\n",
       "    .dataframe tbody tr th {\n",
       "        vertical-align: top;\n",
       "    }\n",
       "\n",
       "    .dataframe thead th {\n",
       "        text-align: right;\n",
       "    }\n",
       "</style>\n",
       "<table border=\"1\" class=\"dataframe\">\n",
       "  <thead>\n",
       "    <tr style=\"text-align: right;\">\n",
       "      <th></th>\n",
       "      <th>Survived</th>\n",
       "      <th>Pclass</th>\n",
       "      <th>Name</th>\n",
       "      <th>Sex</th>\n",
       "      <th>Age</th>\n",
       "      <th>SibSp</th>\n",
       "      <th>Parch</th>\n",
       "      <th>Ticket</th>\n",
       "      <th>Fare</th>\n",
       "      <th>Cabin</th>\n",
       "      <th>Embarked</th>\n",
       "    </tr>\n",
       "    <tr>\n",
       "      <th>PassengerId</th>\n",
       "      <th></th>\n",
       "      <th></th>\n",
       "      <th></th>\n",
       "      <th></th>\n",
       "      <th></th>\n",
       "      <th></th>\n",
       "      <th></th>\n",
       "      <th></th>\n",
       "      <th></th>\n",
       "      <th></th>\n",
       "      <th></th>\n",
       "    </tr>\n",
       "  </thead>\n",
       "  <tbody>\n",
       "    <tr>\n",
       "      <td>1</td>\n",
       "      <td>0</td>\n",
       "      <td>3</td>\n",
       "      <td>Braund, Mr. Owen Harris</td>\n",
       "      <td>male</td>\n",
       "      <td>22.0</td>\n",
       "      <td>1</td>\n",
       "      <td>0</td>\n",
       "      <td>A/5 21171</td>\n",
       "      <td>7.2500</td>\n",
       "      <td>NaN</td>\n",
       "      <td>S</td>\n",
       "    </tr>\n",
       "    <tr>\n",
       "      <td>2</td>\n",
       "      <td>1</td>\n",
       "      <td>1</td>\n",
       "      <td>Cumings, Mrs. John Bradley (Florence Briggs Th...</td>\n",
       "      <td>female</td>\n",
       "      <td>38.0</td>\n",
       "      <td>1</td>\n",
       "      <td>0</td>\n",
       "      <td>PC 17599</td>\n",
       "      <td>71.2833</td>\n",
       "      <td>C85</td>\n",
       "      <td>C</td>\n",
       "    </tr>\n",
       "    <tr>\n",
       "      <td>3</td>\n",
       "      <td>1</td>\n",
       "      <td>3</td>\n",
       "      <td>Heikkinen, Miss. Laina</td>\n",
       "      <td>female</td>\n",
       "      <td>26.0</td>\n",
       "      <td>0</td>\n",
       "      <td>0</td>\n",
       "      <td>STON/O2. 3101282</td>\n",
       "      <td>7.9250</td>\n",
       "      <td>NaN</td>\n",
       "      <td>S</td>\n",
       "    </tr>\n",
       "    <tr>\n",
       "      <td>4</td>\n",
       "      <td>1</td>\n",
       "      <td>1</td>\n",
       "      <td>Futrelle, Mrs. Jacques Heath (Lily May Peel)</td>\n",
       "      <td>female</td>\n",
       "      <td>35.0</td>\n",
       "      <td>1</td>\n",
       "      <td>0</td>\n",
       "      <td>113803</td>\n",
       "      <td>53.1000</td>\n",
       "      <td>C123</td>\n",
       "      <td>S</td>\n",
       "    </tr>\n",
       "  </tbody>\n",
       "</table>\n",
       "</div>"
      ],
      "text/plain": [
       "             Survived  Pclass  \\\n",
       "PassengerId                     \n",
       "1                   0       3   \n",
       "2                   1       1   \n",
       "3                   1       3   \n",
       "4                   1       1   \n",
       "\n",
       "                                                          Name     Sex   Age  \\\n",
       "PassengerId                                                                    \n",
       "1                                      Braund, Mr. Owen Harris    male  22.0   \n",
       "2            Cumings, Mrs. John Bradley (Florence Briggs Th...  female  38.0   \n",
       "3                                       Heikkinen, Miss. Laina  female  26.0   \n",
       "4                 Futrelle, Mrs. Jacques Heath (Lily May Peel)  female  35.0   \n",
       "\n",
       "             SibSp  Parch            Ticket     Fare Cabin Embarked  \n",
       "PassengerId                                                          \n",
       "1                1      0         A/5 21171   7.2500   NaN        S  \n",
       "2                1      0          PC 17599  71.2833   C85        C  \n",
       "3                0      0  STON/O2. 3101282   7.9250   NaN        S  \n",
       "4                1      0            113803  53.1000  C123        S  "
      ]
     },
     "execution_count": 12,
     "metadata": {},
     "output_type": "execute_result"
    }
   ],
   "source": [
    "titanic[:4]"
   ]
  },
  {
   "cell_type": "code",
   "execution_count": null,
   "metadata": {},
   "outputs": [],
   "source": []
  }
 ],
 "metadata": {
  "kernelspec": {
   "display_name": "Python 3",
   "language": "python",
   "name": "python3"
  },
  "language_info": {
   "codemirror_mode": {
    "name": "ipython",
    "version": 3
   },
   "file_extension": ".py",
   "mimetype": "text/x-python",
   "name": "python",
   "nbconvert_exporter": "python",
   "pygments_lexer": "ipython3",
   "version": "3.7.3"
  }
 },
 "nbformat": 4,
 "nbformat_minor": 2
}
